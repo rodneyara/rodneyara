{
 "cells": [
  {
   "cell_type": "markdown",
   "id": "f9f1120b-8a3f-4087-ae17-b8f34cf86343",
   "metadata": {},
   "source": [
    "# Data Science Tools and Ecosystem"
   ]
  },
  {
   "cell_type": "markdown",
   "id": "a2a2469b-45f5-4c8e-bc24-cdd29a730da1",
   "metadata": {},
   "source": [
    "## Author\n",
    "\n",
    "Rodney Ramirez\n"
   ]
  },
  {
   "cell_type": "markdown",
   "id": "89698b68-38fc-4599-8a56-01e00d3341d8",
   "metadata": {},
   "source": [
    "### Objectives:\n",
    "\n",
    "- List popular languages for Data Science.\n",
    "- Explain key concepts related to machine learning.\n",
    "- Demonstrate data visualization techniques using Python libraries.\n"
   ]
  },
  {
   "cell_type": "markdown",
   "id": "11279da4-842b-440c-8848-e987bb49b490",
   "metadata": {},
   "source": [
    "In this notebook, Data Science Tools and Ecosystem are summarized."
   ]
  },
  {
   "cell_type": "markdown",
   "id": "c55ba433-73b2-4df7-92cf-63f6c10865c0",
   "metadata": {},
   "source": [
    "Some of the popular languages that Data Scientists use are:\n",
    "\n",
    "1. **Python**: Widely adopted for its simplicity, extensive libraries (such as Pandas, NumPy, and Scikit-learn), and strong community support.\n",
    "2. **R**: Known for its statistical capabilities, R is commonly used for data exploration, visualization, and modeling.\n",
    "3. **SQL**: Although primarily associated with databases, SQL is essential for querying and managing large datasets in data science.\n"
   ]
  },
  {
   "cell_type": "markdown",
   "id": "aabe254b-91bb-4741-bbc1-b771d45ec145",
   "metadata": {},
   "source": [
    "Some of the commonly used libraries used by Data Scientists include:\n",
    "\n",
    "1. **Pandas**: A powerful data manipulation library for Python, Pandas provides data structures (such as DataFrames and Series) and functions for cleaning, transforming, and analyzing data.\n",
    "\n",
    "2. **NumPy**: The fundamental package for scientific computing in Python, NumPy offers support for large, multi-dimensional arrays and matrices, along with mathematical functions to operate on these arrays.\n",
    "\n",
    "3. **Scikit-learn (sklearn)**: A machine learning library for Python, Scikit-learn provides tools for classification, regression, clustering, dimensionality reduction, and more. It's widely used for building predictive models.\n"
   ]
  },
  {
   "cell_type": "markdown",
   "id": "c6aa5f43-7977-4920-892f-fed36c779834",
   "metadata": {},
   "source": [
    "| Data Science Tools |\n",
    "| ------------------ |\n",
    "| Jupyter Notebook   |\n",
    "| RStudio            |\n",
    "| Visual Studio Code |\n"
   ]
  },
  {
   "cell_type": "markdown",
   "id": "924c634e-99fb-4a1a-b8ef-c2a0e5ec52e7",
   "metadata": {},
   "source": [
    "### Below are a few examples of evaluating arithmetic expressions in Python"
   ]
  },
  {
   "cell_type": "code",
   "execution_count": 1,
   "id": "a7059ab6-3952-4120-9870-1bdb6684d1e7",
   "metadata": {},
   "outputs": [
    {
     "name": "stdout",
     "output_type": "stream",
     "text": [
      "17\n"
     ]
    }
   ],
   "source": [
    "# This is a simple arithmetic expression to multiply 3 by 4 and then add 5.\n",
    "result = (3 * 4) + 5\n",
    "print (result)"
   ]
  },
  {
   "cell_type": "code",
   "execution_count": 2,
   "id": "18b49cca-d65d-4c90-b904-0a10ab5cd676",
   "metadata": {},
   "outputs": [
    {
     "name": "stdout",
     "output_type": "stream",
     "text": [
      "3.3333333333333335\n"
     ]
    }
   ],
   "source": [
    "# This will convert 200 minutes to hours by dividing by 60.\n",
    "minutes = 200\n",
    "hours = minutes / 60\n",
    "print (hours)"
   ]
  }
 ],
 "metadata": {
  "kernelspec": {
   "display_name": "Python 3 (ipykernel)",
   "language": "python",
   "name": "python3"
  },
  "language_info": {
   "codemirror_mode": {
    "name": "ipython",
    "version": 3
   },
   "file_extension": ".py",
   "mimetype": "text/x-python",
   "name": "python",
   "nbconvert_exporter": "python",
   "pygments_lexer": "ipython3",
   "version": "3.12.3"
  }
 },
 "nbformat": 4,
 "nbformat_minor": 5
}
